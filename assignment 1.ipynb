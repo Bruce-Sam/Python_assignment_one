{
 "cells": [
  {
   "cell_type": "code",
   "execution_count": 2,
   "id": "69ee9ba9",
   "metadata": {},
   "outputs": [],
   "source": [
    "#BRUCE KWESI SAM"
   ]
  },
  {
   "cell_type": "code",
   "execution_count": 11,
   "id": "5ef6a9d0",
   "metadata": {},
   "outputs": [
    {
     "name": "stdout",
     "output_type": "stream",
     "text": [
      "Enter how many cookies you have: 6\n",
      "Enter how many more cookies you find: 6\n",
      "You have 6 cookies + 6 cookies, that's a delicious total of 12 cookies!\n"
     ]
    }
   ],
   "source": [
    "#Get the first number from the user\n",
    "num1 = int(input(\"Enter how many cookies you have: \"))\n",
    "\n",
    "#Get the second number from the user\n",
    "num2 = int(input(\"Enter how many more cookies you find: \"))\n",
    "\n",
    "#Calculate the sum\n",
    "sum = num1 + num2\n",
    "\n",
    "#Create a funny message with the answer\n",
    "message = f\"You have {num1} cookies + {num2} cookies, that's a delicious total of {sum} cookies!\"\n",
    "\n",
    "print(message)\n"
   ]
  },
  {
   "cell_type": "code",
   "execution_count": 13,
   "id": "b4548748",
   "metadata": {},
   "outputs": [
    {
     "name": "stdout",
     "output_type": "stream",
     "text": [
      "What's your name, birthday star? f\n",
      "\n",
      "Happy birthday to f, \n",
      "Happy birthday to you!\n",
      "May your day be full of sprinkles,\n",
      "And pizza for lunch, too!\n",
      "Here's to another year of fun,\n",
      "With games and laughter by the ton.\n",
      "So blow out the candles and make a wish,\n",
      "Happy birthday with a big ol' squish!\n"
     ]
    }
   ],
   "source": [
    "# Get the user's name\n",
    "name = input(\"What's your name, birthday star? \")\n",
    "\n",
    "# Create the silly birthday song\n",
    "song = f\"\"\"\n",
    "Happy birthday to {name}, \n",
    "Happy birthday to you!\n",
    "May your day be full of sprinkles,\n",
    "And pizza for lunch, too!\n",
    "Here's to another year of fun,\n",
    "With games and laughter by the ton.\n",
    "So blow out the candles and make a wish,\n",
    "Happy birthday with a big ol' squish!\"\"\"\n",
    "\n",
    "# Print the song\n",
    "print(song)\n"
   ]
  },
  {
   "cell_type": "code",
   "execution_count": 18,
   "id": "f9511d17",
   "metadata": {},
   "outputs": [
    {
     "name": "stdout",
     "output_type": "stream",
     "text": [
      "Enter the temperature in Celsius: 5\n",
      "5.00 degrees Celsius is equal to 41.00 degrees Fahrenheit\n"
     ]
    }
   ],
   "source": [
    "# Get the temperature in Celsius from the user\n",
    "celsius = float(input(\"Enter the temperature in Celsius: \"))\n",
    "\n",
    "# Convert Celsius to Fahrenheit using the formula\n",
    "fahrenheit = (celsius * 9/5) + 32\n",
    "\n",
    "# Display the result\n",
    "print(f\"{celsius:.2f} degrees Celsius is equal to {fahrenheit:.2f} degrees Fahrenheit\")"
   ]
  },
  {
   "cell_type": "code",
   "execution_count": 19,
   "id": "e1c9b7aa",
   "metadata": {},
   "outputs": [
    {
     "name": "stdout",
     "output_type": "stream",
     "text": [
      "What's your name? fg\n",
      "How old are you? 45\n",
      "Hello fg, welcome! You seem like a fantastic person at 45 years old.\n"
     ]
    }
   ],
   "source": [
    "# Get the user's name\n",
    "name = input(\"What's your name? \")\n",
    "\n",
    "# Get the user's age\n",
    "age = int(input(\"How old are you? \"))\n",
    "\n",
    "# Create the personalized greeting\n",
    "greeting = f\"Hello {name}, welcome! You seem like a fantastic person at {age} years old.\"\n",
    "\n",
    "# Display the greeting\n",
    "print(greeting)"
   ]
  },
  {
   "cell_type": "code",
   "execution_count": 20,
   "id": "ccd3fbaf",
   "metadata": {},
   "outputs": [
    {
     "name": "stdout",
     "output_type": "stream",
     "text": [
      "Enter the price of the item: 56.6\n",
      "The final price of the item (including 7% tax) is £60.56.\n"
     ]
    }
   ],
   "source": [
    "# Set the pre-set tax rate (as a decimal)\n",
    "tax_rate = 0.07  # 7% tax rate\n",
    "\n",
    "# Get the price of the item (without tax) from the user\n",
    "price = float(input(\"Enter the price of the item: \"))\n",
    "\n",
    "# Calculate the amount of tax\n",
    "tax_amount = price * tax_rate\n",
    "\n",
    "# Calculate the final price (including tax)\n",
    "final_price = price + tax_amount\n",
    "\n",
    "# Display the final price with two decimal places\n",
    "print(f\"The final price of the item (including {tax_rate*100:.0f}% tax) is £{final_price:.2f}S\")\n"
   ]
  },
  {
   "cell_type": "code",
   "execution_count": null,
   "id": "d26bb53b",
   "metadata": {},
   "outputs": [
    {
     "name": "stdout",
     "output_type": "stream",
     "text": [
      "Great to see you in my lab! How many ingredients will your potion have (2 or 3)? 4\n",
      "Oops! You can only use 2 or 3 ingredients. Please restart and try again.\n"
     ]
    }
   ],
   "source": [
    "# Get the number of ingredients (2 or 3) from the user\n",
    "numIngredients = int(input(\"Great to see you in my lab! How many ingredients will your potion have (2 or 3)? \"))\n",
    "\n",
    "# Check if the user entered a valid number (2 or 3)\n",
    "if numIngredients != 2 and numIngredients != 3:\n",
    "    print(\"Oops! You can only use 2 or 3 ingredients. Please restart and try again.\")\n",
    "    exit()\n",
    "\n",
    "# Array to store the ingredients\n",
    "ingredients = []\n",
    "\n",
    "# Get the ingredients from the user\n",
    "for i in range(numIngredients):\n",
    "    ingredient = input(f\"Enter ingredient {i+1} for your wacky potion: \")\n",
    "    ingredients.append(ingredient)\n",
    "\n",
    "# Combine the ingredients into a potion name using string concatenation\n",
    "potionNames = []\n",
    "for ingredient in ingredients:\n",
    "    potionName = f\"{ingredient} Potion\"  # Add a space after each ingredient\n",
    "    potionNames.append(potionName)\n",
    "\n",
    "# Create a string containing all the potion names separated by commas\n",
    "potion_names_str = \", \".join(potionNames)\n",
    "\n",
    "# Display the mad scientist's message with the potion names\n",
    "print(f\"Mixing {potion_names_str} sounds like a fantastic experiment! Let the bubbling begin!\")\n"
   ]
  },
  {
   "cell_type": "code",
   "execution_count": null,
   "id": "bedb5388",
   "metadata": {},
   "outputs": [],
   "source": []
  }
 ],
 "metadata": {
  "kernelspec": {
   "display_name": "Python 3 (ipykernel)",
   "language": "python",
   "name": "python3"
  },
  "language_info": {
   "codemirror_mode": {
    "name": "ipython",
    "version": 3
   },
   "file_extension": ".py",
   "mimetype": "text/x-python",
   "name": "python",
   "nbconvert_exporter": "python",
   "pygments_lexer": "ipython3",
   "version": "3.11.5"
  }
 },
 "nbformat": 4,
 "nbformat_minor": 5
}
